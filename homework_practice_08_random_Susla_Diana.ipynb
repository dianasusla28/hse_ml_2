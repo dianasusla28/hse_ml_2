{
  "nbformat": 4,
  "nbformat_minor": 0,
  "metadata": {
    "kernelspec": {
      "display_name": "Python 3",
      "language": "python",
      "name": "python3"
    },
    "language_info": {
      "codemirror_mode": {
        "name": "ipython",
        "version": 3
      },
      "file_extension": ".py",
      "mimetype": "text/x-python",
      "name": "python",
      "nbconvert_exporter": "python",
      "pygments_lexer": "ipython3",
      "version": "3.7.6"
    },
    "colab": {
      "name": "homework-practice-08-random-Susla-Diana.ipynb",
      "provenance": [],
      "collapsed_sections": []
    }
  },
  "cells": [
    {
      "cell_type": "markdown",
      "metadata": {
        "id": "RYp0bXOFK-hP"
      },
      "source": [
        "# Машинное обучение, ФКН ВШЭ\n",
        "\n",
        "## Практическое задание 8. Метод опорных векторов и аппроксимация ядер\n",
        "\n",
        "### Общая информация\n",
        "Дата выдачи: 05.02.2021\n",
        "\n",
        "Мягкий дедлайн: 01:59MSK 21.02.2021\n",
        "\n",
        "Жесткий дедлайн: 01:59MSK 24.02.2021\n",
        "\n",
        "### Оценивание и штрафы\n",
        "Каждая из задач имеет определенную «стоимость» (указана в скобках около задачи). Максимальная оценка за работу (без учёта бонусов) — 10 баллов.\n",
        "\n",
        "Сдавать задание после указанного жёсткого срока сдачи нельзя. При выставлении неполного балла за задание в связи с наличием ошибок на усмотрение проверяющего предусмотрена возможность исправить работу на указанных в ответном письме условиях.\n",
        "\n",
        "Задание выполняется самостоятельно. «Похожие» решения считаются плагиатом и все задействованные студенты (в том числе те, у кого списали) не могут получить за него больше 0 баллов (подробнее о плагиате см. на странице курса). Если вы нашли решение какого-то из заданий (или его часть) в открытом источнике, необходимо указать ссылку на этот источник в отдельном блоке в конце вашей работы (скорее всего вы будете не единственным, кто это нашел, поэтому чтобы исключить подозрение в плагиате, необходима ссылка на источник).\n",
        "\n",
        "Неэффективная реализация кода может негативно отразиться на оценке.\n",
        "\n",
        "### Формат сдачи\n",
        "Задания сдаются через систему anytask. Посылка должна содержать:\n",
        "* Ноутбук homework-practice-08-random-features-Username.ipynb\n",
        "\n",
        "Username — ваша фамилия и имя на латинице именно в таком порядке"
      ]
    },
    {
      "cell_type": "markdown",
      "metadata": {
        "id": "vY8vT0W_K-hR"
      },
      "source": [
        "### О задании\n",
        "\n",
        "На занятиях мы подробно обсуждали метод опорных векторов (SVM). В базовой версии в нём нет чего-то особенного — мы всего лишь используем специальную функцию потерь, которая не требует устремлять отступы к бесконечности; ей достаточно, чтобы отступы были не меньше +1. Затем мы узнали, что SVM можно переписать в двойственном виде, который, позволяет заменить скалярные произведения объектов на ядра. Это будет соответствовать построению модели в новом пространстве более высокой размерности, координаты которого представляют собой нелинейные модификации исходных признаков.\n",
        "\n",
        "Ядровой SVM, к сожалению, довольно затратен по памяти (нужно хранить матрицу Грама размера $d \\times d$) и по времени (нужно решать задачу условной оптимизации с квадратичной функцией, а это не очень быстро). Мы обсуждали, что есть способы посчитать новые признаки $\\tilde \\varphi(x)$ на основе исходных так, что скалярные произведения этих новых $\\langle \\tilde \\varphi(x), \\tilde \\varphi(z) \\rangle$ приближают ядро $K(x, z)$.\n",
        "\n",
        "Мы будем исследовать аппроксимации методом Random Fourier Features (RFF, также в литературе встречается название Random Kitchen Sinks) для гауссовых ядер. Будем использовать формулы, которые немного отличаются от того, что было на лекциях (мы добавим сдвиги внутрь тригонометрических функций и будем использовать только косинусы, потому что с нужным сдвигом косинус превратится в синус):\n",
        "$$\\tilde \\varphi(x) = (\n",
        "\\cos (w_1^T x + b_1),\n",
        "\\dots,\n",
        "\\cos (w_n^T x + b_n)\n",
        "),$$\n",
        "где $w_j \\sim \\mathcal{N}(0, 1/\\sigma^2)$, $b_j \\sim U[-\\pi, \\pi]$.\n",
        "\n",
        "На новых признаках $\\tilde \\varphi(x)$ мы будем строить любую линейную модель.\n",
        "\n",
        "Можно считать, что это некоторая новая парадигма построения сложных моделей. Можно направленно искать сложные нелинейные закономерности в данных с помощью градиентного бустинга или нейронных сетей, а можно просто нагенерировать большое количество случайных нелинейных признаков и надеяться, что быстрая и простая модель (то есть линейная) сможет показать на них хорошее качество. В этом задании мы изучим, насколько работоспособна такая идея.\n"
      ]
    },
    {
      "cell_type": "markdown",
      "metadata": {
        "id": "1Y5alWQDydl1"
      },
      "source": [
        "Алгоритм\r\n",
        "\r\n",
        "Вам потребуется реализовать следующий алгоритм:\r\n",
        "1. Понизить размерность выборки до new_dim с помощью метода главных компонент.\r\n",
        "2. Для полученной выборки оценить гиперпараметр $\\sigma^2$ с помощью эвристики (рекомендуем считать медиану не по всем парам объектов, а по случайному подмножеству из где-то миллиона пар объектов): $$\\sigma^2 = \\text{median}_{i, j = 1, \\dots, \\ell, i \\neq j} \\left\\{\\sum_{k = 1}^{d} (x_{ik} - x_{jk})^2 \\right\\}$$\r\n",
        "3. Сгенерировать n_features наборов весов $w_j$ и сдвигов $b_j$.\r\n",
        "4. Сформировать n_features новых признаков по формулам, приведённым выше.\r\n",
        "5. Обучить линейную модель (логистическую регрессию или SVM) на новых признаках.\r\n",
        "6. Повторить преобразования (PCA, формирование новых признаков) к тестовой выборке и применить модель."
      ]
    },
    {
      "cell_type": "markdown",
      "metadata": {
        "id": "N_sGunb7K-hS"
      },
      "source": [
        "Тестировать алгоритм мы будем на данных Fashion MNIST. Ниже код для их загрузки и подготовки."
      ]
    },
    {
      "cell_type": "code",
      "metadata": {
        "id": "YyG6dBfjK-hS"
      },
      "source": [
        "import keras\n",
        "from keras.datasets import fashion_mnist\n",
        "from sklearn.base import BaseEstimator, TransformerMixin\n",
        "from sklearn.decomposition import PCA\n",
        "import numpy as np\n",
        "from sklearn.linear_model import LogisticRegression\n",
        "from sklearn.svm import SVC\n",
        "from sklearn.metrics import accuracy_score\n",
        "import xgboost as xgb\n",
        "from sklearn.model_selection import RandomizedSearchCV\n",
        "import pandas as pd\n",
        "import random\n",
        "from matplotlib import pyplot as plt\n",
        "from sklearn import preprocessing\n",
        "from sklearn.linear_model import SGDClassifier\n",
        "from sklearn.linear_model import RidgeClassifierCV"
      ],
      "execution_count": 77,
      "outputs": []
    },
    {
      "cell_type": "markdown",
      "metadata": {
        "id": "f269kz5c-P-W"
      },
      "source": [
        "По традиции будем считать, что мы люди сильные и психику портить тоже не хотим, так что справимся без ворнингов))))"
      ]
    },
    {
      "cell_type": "code",
      "metadata": {
        "id": "ZTrWj-ts-NEo"
      },
      "source": [
        "import warnings\r\n",
        "warnings.filterwarnings(\"ignore\")"
      ],
      "execution_count": 71,
      "outputs": []
    },
    {
      "cell_type": "code",
      "metadata": {
        "id": "S_ZIIFH86wa_"
      },
      "source": [
        "(x_train_pics, y_train), (x_test_pics, y_test) = fashion_mnist.load_data()\r\n",
        "x_train = x_train_pics.reshape(y_train.shape[0], -1)\r\n",
        "x_test = x_test_pics.reshape(y_test.shape[0], -1)"
      ],
      "execution_count": 72,
      "outputs": []
    },
    {
      "cell_type": "markdown",
      "metadata": {
        "id": "rJNN55F7K-hT"
      },
      "source": [
        "__Задание 1. (5 баллов)__\n",
        "\n",
        "Реализуйте алгоритм, описанный выше. Можете воспользоваться шаблоном класса ниже или написать свой интерфейс.\n",
        "\n",
        "Ваша реализация должна поддерживать следующие опции:\n",
        "1. Возможность задавать значения гиперпараметров new_dim (по умолчанию 50) и n_features (по умолчанию 1000).\n",
        "2. Возможность включать или выключать предварительное понижение размерности с помощью метода главных компонент.\n",
        "3. Возможность выбирать тип линейной модели (логистическая регрессия или SVM с линейным ядром).\n",
        "\n",
        "Протестируйте на данных Fashion MNIST, сформированных кодом выше. Если на тесте у вас получилась доля верных ответов не ниже 0.84 с гиперпараметрами по умолчанию, то вы всё сделали правильно."
      ]
    },
    {
      "cell_type": "code",
      "metadata": {
        "id": "jP8yepx8K-hT"
      },
      "source": [
        "class RFFPipeline(BaseEstimator, TransformerMixin):\n",
        "    def __init__(self, n_features=1000, new_dim=50, use_PCA=True, classifier='logreg'):\n",
        "        self.n_features = n_features\n",
        "        self.use_PCA = use_PCA\n",
        "        self.new_dim = new_dim\n",
        "        self.classifier = classifier\n",
        "        self.PCA = PCA(n_components=self.new_dim)\n",
        "\n",
        "        if self.classifier == 'logreg':\n",
        "            self.model = LogisticRegression()\n",
        "        else:\n",
        "            self.model = SVC(kernel=self.classifier)\n",
        "\n",
        "    def est_sigma2(self, X):\n",
        "        batch_size = 1000000\n",
        "        i = np.random.choice(X.shape[0], batch_size)\n",
        "        j = np.random.choice(X.shape[0] - 1, batch_size)\n",
        "        j[j >= i] += 1\n",
        "        ij = np.stack([i, j], axis=1)\n",
        "        sigma2 = np.median(np.sum(np.square(X[ij][:, 0] - X[ij][:, 1]), axis=1))\n",
        "\n",
        "        return sigma2\n",
        "\n",
        "    def fit(self, X, y):\n",
        "        if self.use_PCA:\n",
        "            pca_X = self.PCA.fit_transform(X)\n",
        "        else:\n",
        "            pca_X = X\n",
        "            self.new_dim = X.shape[1]\n",
        "\n",
        "        sigma2 = self.est_sigma2(pca_X)\n",
        "\n",
        "        self.W = np.random.normal(0, 1 / np.sqrt(sigma2), (self.new_dim, self.n_features))\n",
        "        self.b = np.random.uniform(-np.pi, np.pi, self.n_features)\n",
        "\n",
        "        new_X = np.cos(pca_X @ self.W + self.b)\n",
        "        \n",
        "        self.model.fit(new_X, y)\n",
        "\n",
        "        return self\n",
        "\n",
        "    def predict_proba(self, X):\n",
        "        if self.use_PCA:\n",
        "            pca_X = self.PCA.transform(X)\n",
        "        else:\n",
        "            pca_X = X\n",
        "            self.new_dim = X.shape[1]\n",
        "\n",
        "        new_X = np.cos(pca_X @ self.W + self.b)\n",
        "        res = self.model.predict_proba(new_X)\n",
        "\n",
        "        return res \n",
        "        \n",
        "    def predict(self, X):\n",
        "        if self.use_PCA:\n",
        "            pca_X = self.PCA.transform(X)\n",
        "        else:\n",
        "            pca_X = X\n",
        "            self.new_dim = X.shape[1]\n",
        "\n",
        "        new_X = np.cos(pca_X @ self.W + self.b)\n",
        "        res = self.model.predict(new_X)\n",
        "\n",
        "        return res"
      ],
      "execution_count": 5,
      "outputs": []
    },
    {
      "cell_type": "code",
      "metadata": {
        "colab": {
          "base_uri": "https://localhost:8080/"
        },
        "id": "-0oR6ZznbCME",
        "outputId": "e7b341c7-69de-4e8a-e81c-f6f0a6a0cef6"
      },
      "source": [
        "%%time\r\n",
        "\r\n",
        "pip = RFFPipeline()\r\n",
        "pip.fit(x_train, y_train)\r\n",
        "y_pred = pip.predict(x_test)\r\n",
        "\r\n",
        "print(\"Доля верных ответов на тесте: \", accuracy_score(y_pred, y_test) * 100, \"%\", sep='')"
      ],
      "execution_count": 11,
      "outputs": [
        {
          "output_type": "stream",
          "text": [
            "Доля верных ответов на тесте: 85.94000000000001%\n",
            "CPU times: user 1min 23s, sys: 19.1 s, total: 1min 42s\n",
            "Wall time: 53.7 s\n"
          ],
          "name": "stdout"
        }
      ]
    },
    {
      "cell_type": "markdown",
      "metadata": {
        "id": "k3YkV7uS_JxA"
      },
      "source": [
        "Ну, вроде можно жить дальше"
      ]
    },
    {
      "cell_type": "markdown",
      "metadata": {
        "id": "HYqQUEi-K-hU"
      },
      "source": [
        "__Задание 2. (3 балла)__\n",
        "\n",
        "Сравните подход со случайными признаками с обучением SVM на исходных признаках. Попробуйте вариант с обычным (линейным) SVM и с ядровым SVM. Ядровой SVM может очень долго обучаться, поэтому можно делать любые разумные вещи для ускорения: брать подмножество объектов из обучающей выборки, например.\n",
        "\n",
        "Сравните подход со случайными признаками с вариантом, в котором вы понижаете размерность с помощью PCA и обучаете градиентный бустинг. Используйте одну из реализаций CatBoost/LightGBM/XGBoost, не забудьте подобрать число деревьев и длину шага.\n",
        "\n",
        "Сделайте выводы — насколько идея со случайными признаками работает? Сравните как с точки зрения качества, так и с точки зрения скорости обучения и применения."
      ]
    },
    {
      "cell_type": "code",
      "metadata": {
        "colab": {
          "base_uri": "https://localhost:8080/"
        },
        "id": "6oozUaMp5c4b",
        "outputId": "7fac5bc9-081b-4032-c11b-dc0fca148c74"
      },
      "source": [
        "x_train.shape"
      ],
      "execution_count": 6,
      "outputs": [
        {
          "output_type": "execute_result",
          "data": {
            "text/plain": [
              "(60000, 784)"
            ]
          },
          "metadata": {
            "tags": []
          },
          "execution_count": 6
        }
      ]
    },
    {
      "cell_type": "code",
      "metadata": {
        "colab": {
          "base_uri": "https://localhost:8080/"
        },
        "id": "wxtHuliO5zyi",
        "outputId": "714e588a-aafd-4aa5-a9b9-7330e9297ce0"
      },
      "source": [
        "x_test.shape"
      ],
      "execution_count": 7,
      "outputs": [
        {
          "output_type": "execute_result",
          "data": {
            "text/plain": [
              "(10000, 784)"
            ]
          },
          "metadata": {
            "tags": []
          },
          "execution_count": 7
        }
      ]
    },
    {
      "cell_type": "markdown",
      "metadata": {
        "id": "u5XtVTwr6RBr"
      },
      "source": [
        "Рассмотрим случайное подмножество объектов из обучающей выборке, а то иначе SVM будет работать вечность( Я взяла размер равный 1/6 от всех объектов обучающей выборки и также уменьшила размер тестовой выборки, чтобы она была соизмерима обучающей).\r\n",
        "\r\n",
        "Извиняюсь, что так сильно уменьшила, это произошло после того, как SVM на 20000 учился больше 2 часов и я психанула..."
      ]
    },
    {
      "cell_type": "code",
      "metadata": {
        "id": "duNHA90R5kzF"
      },
      "source": [
        "idxs = random.sample(range(x_train.shape[0]), 10000)\r\n",
        "n_x_train = x_train[idxs]\r\n",
        "n_y_train = y_train[idxs]\r\n",
        "\r\n",
        "idxs_2 = random.sample(range(x_test.shape[0]), 2000)\r\n",
        "n_x_test = x_test[idxs_2]\r\n",
        "n_y_test = y_test[idxs_2]"
      ],
      "execution_count": 15,
      "outputs": []
    },
    {
      "cell_type": "code",
      "metadata": {
        "colab": {
          "base_uri": "https://localhost:8080/"
        },
        "id": "JQYt6hhzWhx1",
        "outputId": "d038b352-8751-47d9-9b7f-345103961c93"
      },
      "source": [
        "%%time\r\n",
        "\r\n",
        "pip = RFFPipeline(classifier='linear')\r\n",
        "pip.fit(n_x_train, n_y_train)\r\n",
        "y_pred = pip.predict(n_x_test)\r\n",
        "\r\n",
        "print(\"Доля верных ответов на тесте для SVM с линейным ядром (RFF): \", accuracy_score(y_pred, n_y_test) * 100, \"%\", sep='')"
      ],
      "execution_count": 15,
      "outputs": [
        {
          "output_type": "stream",
          "text": [
            "Доля верных ответов на тесте для SVM с линейным ядром (RFF): 86.1%\n",
            "CPU times: user 39.7 s, sys: 1.42 s, total: 41.1 s\n",
            "Wall time: 39.5 s\n"
          ],
          "name": "stdout"
        }
      ]
    },
    {
      "cell_type": "code",
      "metadata": {
        "colab": {
          "base_uri": "https://localhost:8080/"
        },
        "id": "jodORVlNNOpq",
        "outputId": "b857b4bb-f019-4a33-8ee9-275329e36fa2"
      },
      "source": [
        "%%time\r\n",
        "\r\n",
        "model = SVC(kernel='linear')\r\n",
        "model.fit(n_x_train, n_y_train)\r\n",
        "y_pred = model.predict(n_x_test)\r\n",
        "\r\n",
        "print(\"Доля верных ответов на тесте для SVM с линейным ядром (SVM): \", accuracy_score(y_pred, n_y_test) * 100, \"%\", sep='')"
      ],
      "execution_count": 16,
      "outputs": [
        {
          "output_type": "stream",
          "text": [
            "Доля верных ответов на тесте для SVM с линейным ядром (SVM): 79.10000000000001%\n",
            "CPU times: user 40.3 s, sys: 4.31 ms, total: 40.3 s\n",
            "Wall time: 40.3 s\n"
          ],
          "name": "stdout"
        }
      ]
    },
    {
      "cell_type": "markdown",
      "metadata": {
        "id": "fypPtTWOAGSd"
      },
      "source": [
        "Как мы видим просто SVM справляется хуже, причем в случае линейного ядра я бы сказала, что значительно хуже. "
      ]
    },
    {
      "cell_type": "code",
      "metadata": {
        "colab": {
          "base_uri": "https://localhost:8080/"
        },
        "id": "JOcem8PUK5uE",
        "outputId": "1116cb83-a530-49df-a35a-78fc57f39041"
      },
      "source": [
        "%%time\r\n",
        "\r\n",
        "pip = RFFPipeline(classifier='poly')\r\n",
        "pip.fit(n_x_train, n_y_train)\r\n",
        "y_pred = pip.predict(n_x_test)\r\n",
        "\r\n",
        "print(\"Доля верных ответов на тесте для SVM с полиномиальным ядром (RFF): \", accuracy_score(y_pred, n_y_test) * 100, \"%\", sep='')"
      ],
      "execution_count": 17,
      "outputs": [
        {
          "output_type": "stream",
          "text": [
            "Доля верных ответов на тесте для SVM с полиномиальным ядром (RFF): 85.1%\n",
            "CPU times: user 50.9 s, sys: 1.4 s, total: 52.3 s\n",
            "Wall time: 50.7 s\n"
          ],
          "name": "stdout"
        }
      ]
    },
    {
      "cell_type": "code",
      "metadata": {
        "colab": {
          "base_uri": "https://localhost:8080/"
        },
        "id": "beO6FT-4NtYs",
        "outputId": "85e40d8f-e739-4034-f6de-ebd7b2003205"
      },
      "source": [
        "%%time\r\n",
        "\r\n",
        "model = SVC(kernel='poly')\r\n",
        "model.fit(n_x_train, n_y_train)\r\n",
        "y_pred = model.predict(n_x_test)\r\n",
        "\r\n",
        "print(\"Доля верных ответов на тесте для SVM с полиномиальным ядром (SVM): \", accuracy_score(y_pred, n_y_test) * 100, \"%\", sep='')"
      ],
      "execution_count": 18,
      "outputs": [
        {
          "output_type": "stream",
          "text": [
            "Доля верных ответов на тесте для SVM с полиномиальным ядром (SVM): 83.55%\n",
            "CPU times: user 42.6 s, sys: 7.45 ms, total: 42.7 s\n",
            "Wall time: 42.7 s\n"
          ],
          "name": "stdout"
        }
      ]
    },
    {
      "cell_type": "markdown",
      "metadata": {
        "id": "JuuKB0yaAhK_"
      },
      "source": [
        "И в случае полиномиального ядра SVM на всех признаках также справляется хуже."
      ]
    },
    {
      "cell_type": "code",
      "metadata": {
        "colab": {
          "base_uri": "https://localhost:8080/"
        },
        "id": "mxoDYlHRK511",
        "outputId": "719bf546-3ff9-4eb8-f8d5-6316d097a01a"
      },
      "source": [
        "%%time\r\n",
        "\r\n",
        "pip = RFFPipeline(classifier='rbf')\r\n",
        "pip.fit(n_x_train, n_y_train)\r\n",
        "y_pred = pip.predict(n_x_test)\r\n",
        "\r\n",
        "print(\"Доля верных ответов на тесте для SVM с Гауссовым ядром (RFF): \", accuracy_score(y_pred, n_y_test) * 100, \"%\", sep='')"
      ],
      "execution_count": 19,
      "outputs": [
        {
          "output_type": "stream",
          "text": [
            "Доля верных ответов на тесте для SVM с Гауссовым ядром (RFF): 84.8%\n",
            "CPU times: user 55.1 s, sys: 1.41 s, total: 56.5 s\n",
            "Wall time: 54.8 s\n"
          ],
          "name": "stdout"
        }
      ]
    },
    {
      "cell_type": "code",
      "metadata": {
        "colab": {
          "base_uri": "https://localhost:8080/"
        },
        "id": "dJs7kxaNNuaD",
        "outputId": "3357b22a-b513-494d-b98a-460e42472d79"
      },
      "source": [
        "%%time\r\n",
        "\r\n",
        "model = SVC(kernel='rbf')\r\n",
        "model.fit(n_x_train, n_y_train)\r\n",
        "y_pred = model.predict(n_x_test)\r\n",
        "\r\n",
        "print(\"Доля верных ответов на тесте для SVM с Гауссовым ядром (SVM): \", accuracy_score(y_pred, n_y_test) * 100, \"%\", sep='')"
      ],
      "execution_count": 20,
      "outputs": [
        {
          "output_type": "stream",
          "text": [
            "Доля верных ответов на тесте для SVM с Гауссовым ядром (SVM): 86.3%\n",
            "CPU times: user 42.9 s, sys: 8.92 ms, total: 42.9 s\n",
            "Wall time: 42.9 s\n"
          ],
          "name": "stdout"
        }
      ]
    },
    {
      "cell_type": "markdown",
      "metadata": {
        "id": "GEd4qUFtAqcY"
      },
      "source": [
        "А тут вот лучше... Ну, не будем особо обращать на это внимание и скажем, почему подход с генерацией новых признаков с PCA работает лучше. Как было сказано (или будет сказано далее, мне лень искать) PCA помогает убрать мусорные признаки, таким образом наш метод генерирует новые признаки из +- нормальных, а значит и они тоже получаются нормальными. И таким образом новый набор признаков может быть лучше, чем исходный и модель на нем будет давать лучшее качество. Вот и все :) "
      ]
    },
    {
      "cell_type": "markdown",
      "metadata": {
        "id": "P0LGiwDMMs-g"
      },
      "source": [
        "Говоря о времени обучения, явным аутсайдером является SVM на исходных признаках. На выведенных примерах это не заметно, но при увеличении числа объектов выборки его время работы ооооочень сильно увеличивается. Я так и не дождалась, когда у меня обучится SVM на 20000 объектах. А ждала я, на минуточку, больше 2-ух часов... В общем, было грустно. "
      ]
    },
    {
      "cell_type": "markdown",
      "metadata": {
        "id": "PM6SC9wACE6b"
      },
      "source": [
        "Теперь хотим использовать XGBoost И для начала подберем для него параметры - n_estimators и learning_rate. Поиск идет две тысячи лет, так что оставим и там и там по 3 вариации параметров, чтобы примерно понимать, что нам нужно. "
      ]
    },
    {
      "cell_type": "code",
      "metadata": {
        "colab": {
          "base_uri": "https://localhost:8080/"
        },
        "id": "zrcpaXJWQhbJ",
        "outputId": "a80a7993-ee2b-4f2f-b65f-f27a0eb94c5a"
      },
      "source": [
        "params = {\r\n",
        "    'n_estimators' : np.linspace(10, 50, 3, dtype=int),\r\n",
        "    'learning_rate' : np.linspace(0.1, 0.7, 3),\r\n",
        "}\r\n",
        "\r\n",
        "searcher = RandomizedSearchCV(xgb.XGBClassifier(), params, scoring='accuracy')\r\n",
        "searcher.fit(n_x_train, n_y_train)\r\n",
        "\r\n",
        "best_params = searcher.best_params_\r\n",
        "best_params"
      ],
      "execution_count": 25,
      "outputs": [
        {
          "output_type": "execute_result",
          "data": {
            "text/plain": [
              "{'learning_rate': 0.4, 'n_estimators': 50}"
            ]
          },
          "metadata": {
            "tags": []
          },
          "execution_count": 25
        }
      ]
    },
    {
      "cell_type": "markdown",
      "metadata": {
        "id": "QrGYeiriLpvw"
      },
      "source": [
        "Да, да, я вижу, что n_estimators вышло равное максимальному порогу... Но на больших n_estimators оно считалось больше 2 часов и моего терпения не хватало("
      ]
    },
    {
      "cell_type": "markdown",
      "metadata": {
        "id": "30BqxZG9NTuv"
      },
      "source": [
        "Теперь обучим XGBoost. Возьмем размерность 50, как было по умолчанию в нашем классе."
      ]
    },
    {
      "cell_type": "code",
      "metadata": {
        "colab": {
          "base_uri": "https://localhost:8080/"
        },
        "id": "MkeFrhI7QkAb",
        "outputId": "fdc0a6cd-6fa0-412c-e147-125680c6df66"
      },
      "source": [
        "%%time\r\n",
        "\r\n",
        "pca = PCA(n_components=50)\r\n",
        "tr_x_train = pca.fit_transform(n_x_train)\r\n",
        "tr_x_test = pca.transform(n_x_test)\r\n",
        "\r\n",
        "model = xgb.XGBClassifier(n_estimators=best_params['n_estimators'], \r\n",
        "                          learning_rate=best_params['learning_rate'])\r\n",
        "\r\n",
        "model.fit(tr_x_train, n_y_train)\r\n",
        "y_pred = model.predict(tr_x_test)\r\n",
        "\r\n",
        "print(\"Доля верных ответов на тесте для XGBoost: \", accuracy_score(y_pred, n_y_test) * 100, \"%\", sep='')\r\n"
      ],
      "execution_count": 23,
      "outputs": [
        {
          "output_type": "stream",
          "text": [
            "Доля верных ответов на тесте для XGBoost: 84.35000000000001%\n",
            "CPU times: user 18.4 s, sys: 1.32 s, total: 19.7 s\n",
            "Wall time: 18.3 s\n"
          ],
          "name": "stdout"
        }
      ]
    },
    {
      "cell_type": "markdown",
      "metadata": {
        "id": "tRPKMb3hrqSn"
      },
      "source": [
        "Попробуем еще увеличить n_estimators, так как наш поиск выше выдал крайнее значение, а значит реально оптимальное выше (но с большими числами RandomizedSearchCV работал больше двух часов, так что не судьба)."
      ]
    },
    {
      "cell_type": "code",
      "metadata": {
        "colab": {
          "base_uri": "https://localhost:8080/"
        },
        "id": "T-hX09q7r_y2",
        "outputId": "4345d0ab-1680-4509-dbe0-44e1eacd6482"
      },
      "source": [
        "%%time\r\n",
        "\r\n",
        "model = xgb.XGBClassifier(n_estimators=500, \r\n",
        "                          learning_rate=best_params['learning_rate'])\r\n",
        "\r\n",
        "model.fit(tr_x_train, n_y_train)\r\n",
        "y_pred = model.predict(tr_x_test)\r\n",
        "\r\n",
        "print(\"Доля верных ответов на тесте для XGBoost: \", accuracy_score(y_pred, n_y_test) * 100, \"%\", sep='')\r\n"
      ],
      "execution_count": 24,
      "outputs": [
        {
          "output_type": "stream",
          "text": [
            "Доля верных ответов на тесте для XGBoost: 85.7%\n",
            "CPU times: user 2min 11s, sys: 92.5 ms, total: 2min 11s\n",
            "Wall time: 2min 11s\n"
          ],
          "name": "stdout"
        }
      ]
    },
    {
      "cell_type": "markdown",
      "metadata": {
        "id": "Asheu44LtKeT"
      },
      "source": [
        "Ну, становится получше, конечно. Но есть ощущение, что до 86.3 (наилучшего результата среди других методов, использующих генерацию новх признаков) все равно не дойдет. Так что скажем, что XGBoost справился с задачей хуже. \r\n",
        "\r\n",
        "Ну и так же XGBoost с достаточно большим n_estimators учился дольше всех, а еще и параметры подбираются просто вечность, так что тут минус по всем фронтам, конечно (прости, XGBoost, ничего личного).\r\n",
        "\r\n",
        "И таким образом, мы пришли к тому, что из исследуемых нами в этом пункте методов, и по критерию качества, и по критерию скорости обучения и применения побеждает подход со случайными признаками. "
      ]
    },
    {
      "cell_type": "markdown",
      "metadata": {
        "id": "e6umjhWuK-hV"
      },
      "source": [
        "__Задание 3. (2 балла)__\n",
        "\n",
        "Проведите эксперименты:\n",
        "1. Помогает ли предварительное понижение размерности с помощью PCA? \n",
        "2. Как зависит итоговое качество от n_features? Выходит ли оно на плато при росте n_features?\n",
        "3. Важно ли, какую модель обучать — логистическую регрессию или SVM?"
      ]
    },
    {
      "cell_type": "markdown",
      "metadata": {
        "id": "fyM313EFZc0i"
      },
      "source": [
        "1) Так как не указано, на чем именно это выяснять, то возьму логистическую регрессию и SVM с линейным ядром и протестирую на них. На это раз будем снова использовать все объекты из выборки."
      ]
    },
    {
      "cell_type": "code",
      "metadata": {
        "id": "c2QIHIMbK-hW",
        "colab": {
          "base_uri": "https://localhost:8080/"
        },
        "outputId": "28c40e61-99c3-40c9-ac55-3b46f16dc0d0"
      },
      "source": [
        "%%time\r\n",
        "\r\n",
        "pip = RFFPipeline(classifier='logreg')\r\n",
        "pip.fit(n_x_train, n_y_train)\r\n",
        "y_pred = pip.predict(n_x_test)\r\n",
        "\r\n",
        "print(\"Доля верных ответов на тесте для logreg с PCA: \", accuracy_score(y_pred, n_y_test) * 100, \"%\", sep='')"
      ],
      "execution_count": 25,
      "outputs": [
        {
          "output_type": "stream",
          "text": [
            "Доля верных ответов на тесте для logreg с PCA: 85.85000000000001%\n",
            "CPU times: user 15.2 s, sys: 10.3 s, total: 25.5 s\n",
            "Wall time: 13.4 s\n"
          ],
          "name": "stdout"
        }
      ]
    },
    {
      "cell_type": "code",
      "metadata": {
        "colab": {
          "base_uri": "https://localhost:8080/"
        },
        "id": "jJR42ACVE3UC",
        "outputId": "e8e4b51b-7957-415b-dccb-5b6c41cafb92"
      },
      "source": [
        "%%time\r\n",
        "\r\n",
        "p = RFFPipeline(classifier='logreg', use_PCA=False)\r\n",
        "p.fit(x_train, y_train)\r\n",
        "y_pred = p.predict(x_test)\r\n",
        "\r\n",
        "print(\"Доля верных ответов на тесте для logreg без PCA: \", accuracy_score(y_pred, y_test) * 100, \"%\", sep='')"
      ],
      "execution_count": 26,
      "outputs": [
        {
          "output_type": "stream",
          "text": [
            "Доля верных ответов на тесте для logreg без PCA: 10.9%\n",
            "CPU times: user 16.2 s, sys: 1.94 s, total: 18.2 s\n",
            "Wall time: 11.5 s\n"
          ],
          "name": "stdout"
        }
      ]
    },
    {
      "cell_type": "code",
      "metadata": {
        "colab": {
          "base_uri": "https://localhost:8080/"
        },
        "id": "kpgggMS3ZttR",
        "outputId": "a6c71546-df2c-44de-dccf-483f77eb7b24"
      },
      "source": [
        "%%time\r\n",
        "\r\n",
        "pip = RFFPipeline(classifier='linear')\r\n",
        "pip.fit(n_x_train, n_y_train)\r\n",
        "y_pred = pip.predict(n_x_test)\r\n",
        "\r\n",
        "print(\"Доля верных ответов на тесте для SVM с PCA: \", accuracy_score(y_pred, n_y_test) * 100, \"%\", sep='')"
      ],
      "execution_count": 27,
      "outputs": [
        {
          "output_type": "stream",
          "text": [
            "Доля верных ответов на тесте для SVM с PCA: 85.75%\n",
            "CPU times: user 39.3 s, sys: 1.45 s, total: 40.8 s\n",
            "Wall time: 39.1 s\n"
          ],
          "name": "stdout"
        }
      ]
    },
    {
      "cell_type": "code",
      "metadata": {
        "colab": {
          "base_uri": "https://localhost:8080/"
        },
        "id": "8Vb05C52aVEG",
        "outputId": "20e7a7e7-96c2-400b-ac2e-b104cef09b68"
      },
      "source": [
        "%%time\r\n",
        "\r\n",
        "pip = RFFPipeline(classifier='linear', use_PCA=False)\r\n",
        "pip.fit(n_x_train, n_y_train)\r\n",
        "y_pred = pip.predict(n_x_test)\r\n",
        "\r\n",
        "print(\"Доля верных ответов на тесте для SVM без PCA: \", accuracy_score(y_pred, n_y_test) * 100, \"%\", sep='')"
      ],
      "execution_count": 24,
      "outputs": [
        {
          "output_type": "stream",
          "text": [
            "Доля верных ответов на тесте для SVM без PCA: 10.549999999999999%\n",
            "CPU times: user 28min 22s, sys: 440 ms, total: 28min 22s\n",
            "Wall time: 28min 27s\n"
          ],
          "name": "stdout"
        }
      ]
    },
    {
      "cell_type": "markdown",
      "metadata": {
        "id": "BjyR2xTBxBH1"
      },
      "source": [
        "Помогает ли предварительное понижение размерности? Ну как вам сказать. Тут проблема в том, что если никак не масштабировать данные, то выходит то, что выше. То есть без PCA качество ну совсем близко к нулю. \r\n",
        "\r\n",
        "А теперь попробуем сделать тоже самое, но отмасштабируем наши данные, чтобы с исходными признаками можно было нормально работать и генерировать из них новые."
      ]
    },
    {
      "cell_type": "markdown",
      "metadata": {
        "id": "oQUoOc5MiQQV"
      },
      "source": [
        "Простите, тут будет новая подвыборка, потому что я не готова перезапускать весь код выше."
      ]
    },
    {
      "cell_type": "markdown",
      "metadata": {
        "id": "R1v_s541t_q_"
      },
      "source": [
        "Еще тут возникла проблема с тем, что при нормализации и веторных вычислениях сигмы у коллаба кончается ОЗУ... Так что я просто тестила с циклом в функции, вычисляющей сигму. Решила в итоге оставить векторную версию, она выглядит пооптимальнее для всего остального, но с циклом функция выглядела так:"
      ]
    },
    {
      "cell_type": "code",
      "metadata": {
        "id": "_hyKnB83uZR_"
      },
      "source": [
        "\"\"\"\r\n",
        "def est_sigma2(self, X):\r\n",
        "        batch_size = 1000000\r\n",
        "        res = []\r\n",
        "        for i in range(batch_size):\r\n",
        "            ind_1, ind_2 = np.random.randint(0, X.shape[0], size=2)\r\n",
        "            res.append(np.linalg.norm(X[ind_1] - X[ind_2])**2)\r\n",
        "\r\n",
        "        sigma2 = np.median(res)\r\n",
        "\r\n",
        "        return sigma2\r\n",
        "\"\"\""
      ],
      "execution_count": 1,
      "outputs": []
    },
    {
      "cell_type": "code",
      "metadata": {
        "id": "msx29lcMiQkE"
      },
      "source": [
        "idxs = random.sample(range(x_train.shape[0]), 10000)\r\n",
        "n_x_train = x_train[idxs]\r\n",
        "n_y_train = y_train[idxs]\r\n",
        "\r\n",
        "idxs_2 = random.sample(range(x_test.shape[0]), 2000)\r\n",
        "n_x_test = x_test[idxs_2]\r\n",
        "n_y_test = y_test[idxs_2]"
      ],
      "execution_count": 20,
      "outputs": []
    },
    {
      "cell_type": "code",
      "metadata": {
        "id": "THawSvFYgBoE"
      },
      "source": [
        "normalized_x_train = n_x_train / 255\r\n",
        "normalized_x_test = n_x_test / 255"
      ],
      "execution_count": 21,
      "outputs": []
    },
    {
      "cell_type": "code",
      "metadata": {
        "colab": {
          "base_uri": "https://localhost:8080/"
        },
        "id": "z9k0y-fQgB16",
        "outputId": "c8f50f17-5a9c-48f5-86f8-9b1a4feed2f6"
      },
      "source": [
        "%%time\r\n",
        "\r\n",
        "pip = RFFPipeline(classifier='logreg')\r\n",
        "pip.fit(normalized_x_train, n_y_train)\r\n",
        "y_pred = pip.predict(normalized_x_test)\r\n",
        "\r\n",
        "print(\"Доля верных ответов на тесте для logreg с PCA с нормализацией: \", accuracy_score(y_pred, n_y_test) * 100, \"%\", sep='')"
      ],
      "execution_count": 22,
      "outputs": [
        {
          "output_type": "stream",
          "text": [
            "Доля верных ответов на тесте для logreg с PCA с нормализацией: 85.9%\n",
            "CPU times: user 37.5 s, sys: 10.2 s, total: 47.8 s\n",
            "Wall time: 36 s\n"
          ],
          "name": "stdout"
        }
      ]
    },
    {
      "cell_type": "code",
      "metadata": {
        "colab": {
          "base_uri": "https://localhost:8080/"
        },
        "id": "2OJ12NsBgcVX",
        "outputId": "9397db7a-0bbd-4038-99c1-836686a2a5d8"
      },
      "source": [
        "%%time\r\n",
        "\r\n",
        "pip = RFFPipeline(classifier='logreg', use_PCA=False)\r\n",
        "pip.fit(normalized_x_train, n_y_train)\r\n",
        "y_pred = pip.predict(normalized_x_test)\r\n",
        "\r\n",
        "print(\"Доля верных ответов на тесте для logreg без PCA с нормализацией: \", accuracy_score(y_pred, n_y_test) * 100, \"%\", sep='')"
      ],
      "execution_count": 23,
      "outputs": [
        {
          "output_type": "stream",
          "text": [
            "Доля верных ответов на тесте для logreg без PCA с нормализацией: 84.45%\n",
            "CPU times: user 44.1 s, sys: 9.25 s, total: 53.4 s\n",
            "Wall time: 42.1 s\n"
          ],
          "name": "stdout"
        }
      ]
    },
    {
      "cell_type": "code",
      "metadata": {
        "colab": {
          "base_uri": "https://localhost:8080/"
        },
        "id": "ZxmJ3Equgcda",
        "outputId": "04e4ac90-5aad-4e1b-95d6-8157a361b455"
      },
      "source": [
        "%%time\r\n",
        "\r\n",
        "pip = RFFPipeline(classifier='linear')\r\n",
        "pip.fit(normalized_x_train, n_y_train)\r\n",
        "y_pred = pip.predict(normalized_x_test)\r\n",
        "\r\n",
        "print(\"Доля верных ответов на тесте для SVM с PCA с нормализацией: \", accuracy_score(y_pred, n_y_test) * 100, \"%\", sep='')"
      ],
      "execution_count": 24,
      "outputs": [
        {
          "output_type": "stream",
          "text": [
            "Доля верных ответов на тесте для SVM с PCA с нормализацией: 85.5%\n",
            "CPU times: user 1min 7s, sys: 1.47 s, total: 1min 9s\n",
            "Wall time: 1min 7s\n"
          ],
          "name": "stdout"
        }
      ]
    },
    {
      "cell_type": "code",
      "metadata": {
        "colab": {
          "base_uri": "https://localhost:8080/"
        },
        "id": "Fktwq4X0gcp7",
        "outputId": "4623f6ff-473a-4d8a-d1f2-431d4cd2d68b"
      },
      "source": [
        "%%time\r\n",
        "\r\n",
        "pip = RFFPipeline(classifier='linear', use_PCA=False)\r\n",
        "pip.fit(normalized_x_train, n_y_train)\r\n",
        "y_pred = pip.predict(normalized_x_test)\r\n",
        "\r\n",
        "print(\"Доля верных ответов на тесте для SVM без PCA с нормализацией: \", accuracy_score(y_pred, n_y_test) * 100, \"%\", sep='')"
      ],
      "execution_count": 25,
      "outputs": [
        {
          "output_type": "stream",
          "text": [
            "Доля верных ответов на тесте для SVM без PCA с нормализацией: 83.2%\n",
            "CPU times: user 1min 15s, sys: 308 ms, total: 1min 15s\n",
            "Wall time: 1min 15s\n"
          ],
          "name": "stdout"
        }
      ]
    },
    {
      "cell_type": "markdown",
      "metadata": {
        "id": "LLJitV0kuDbD"
      },
      "source": [
        "Как мы видим, при использовании нормализации качество работы моделей с PCA и без PCA примерно сравнимо. И вот тут уже можно сделать вывод о том, что итоговое качество с использованием PCA немного выше, чем без использования. Так что сделаем вывод, что PCA помогает, да. Вообще по сути PCA помогает нам отобрать из всех исходных признаков нормальные. И получается, что в случае с PCA мы генерируем дальше признаки не из всех, что были, а только из +- сносных, когда в случае, если мы не используем PCA новые признаки могут генерироваться в том числе из каких-то совсем мусорных, что, конечно, скажется на качестве (хоть и не очень сильно)."
      ]
    },
    {
      "cell_type": "markdown",
      "metadata": {
        "id": "TPE6SiYcoF1T"
      },
      "source": [
        "2) Ну что сказать, с SVM-ом мне хочется плакать. А мы, как уже сказано в начале работы, бережем свое психическое здоровье... Так что рассматривать буду логистическую регрессию в данном пункте.\r\n",
        "\r\n"
      ]
    },
    {
      "cell_type": "code",
      "metadata": {
        "id": "7qKtrKcTZtxN"
      },
      "source": [
        "acc_list = []\r\n",
        "n_fs = np.linspace(10, 2000, 40, dtype=int)\r\n",
        "\r\n",
        "for n in n_fs:\r\n",
        "    pip = RFFPipeline(classifier='logreg', n_features=n)\r\n",
        "    pip.fit(n_x_train, n_y_train)\r\n",
        "    y_pred = pip.predict(n_x_test)\r\n",
        "    cur_acc = accuracy_score(y_pred, n_y_test) * 100\r\n",
        "    acc_list.append(cur_acc)"
      ],
      "execution_count": 27,
      "outputs": []
    },
    {
      "cell_type": "code",
      "metadata": {
        "colab": {
          "base_uri": "https://localhost:8080/",
          "height": 633
        },
        "id": "-OhaxjBKZt2I",
        "outputId": "a5e91227-23fd-42d2-8481-4a2f49eabb2b"
      },
      "source": [
        "plt.figure(figsize=(16, 10))\r\n",
        "plt.plot(n_fs, acc_list, color='deepskyblue')\r\n",
        "plt.xlabel('n_features', size=15)\r\n",
        "plt.ylabel('accuracy (%)', size=15)\r\n",
        "plt.title('Зависимость accuracy от n_features', size=20)\r\n",
        "plt.grid()\r\n",
        "plt.show()"
      ],
      "execution_count": 28,
      "outputs": [
        {
          "output_type": "display_data",
          "data": {
            "image/png": "[encoded data removed]",
            "text/plain": [
              "<Figure size 1152x720 with 1 Axes>"
            ]
          },
          "metadata": {
            "tags": [],
            "needs_background": "light"
          }
        }
      ]
    },
    {
      "cell_type": "markdown",
      "metadata": {
        "id": "VtOJqlQSszoH"
      },
      "source": [
        "Как можно заметить по графику, итоговое качество растет при росте количества признаков только до определенного момента, а затем уже начинает расти очень медленно/почти не изменяться. Что в целом логично, так как при небольшом количестве признаков (в нашем случае, видимо, меньше 500) их количества может быть недостаточно, чтобы выборка получилась линейно разделимой, чего мы и хотим добиться, используя ядровые методы. А если количество признаков уже достаточно большое, то качество работы растет медленно, так выборка уже является практически линейно разделимой (близкой к этому).\r\n",
        "\r\n",
        "Насчет плато. По графику видно, что где-то начиная с 800 признаков и до 2000 accuracy немного колебалась, при этом оставаясь примерно на уровне 85%. Если это можно назвать платом, то давайте назовем... Кажется, что качество уже все-таки не растет, а просто колеблется между какими-то значениями. "
      ]
    },
    {
      "cell_type": "markdown",
      "metadata": {
        "id": "yCrv1ismu5HZ"
      },
      "source": [
        "3) Важно ли какую модель обучать? Так, ну разные модели я уже обучала выше, не буду делать тут это снова, просто напишу вывод. Скопируем сюда все наши результаты, потому что я не готова обучать все заново и составлять красивую таблику...\r\n",
        "\r\n",
        "Доля верных ответов на тесте для logreg с PCA: 85.85000000000001%\r\n",
        "\r\n",
        "Доля верных ответов на тесте для linear SVM с PCA: 85.75%\r\n",
        "\r\n",
        "Доля верных ответов на тесте для SVM с полиномиальным ядром с PCA: 85.1%\r\n",
        "\r\n",
        "Доля верных ответов на тесте для SVM с Гауссовым ядром с PCA: 84.8%\r\n",
        "\r\n",
        "Доля верных ответов на тесте для logreg без PCA с нормализацией: 84.45%\r\n",
        "\r\n",
        "Доля верных ответов на тесте для linear SVM без PCA с нормализацией: 83.2%\r\n",
        "\r\n",
        "\r\n",
        "Как можно заметить, и с PCA, и без PCA лучшее качество дала логистическая регрессия. Не сказать, что разница прям коллосальная, но она есть. Из чего можно сделать вывод, что выбор модели все-таки влияет на обучение (что логично, так что я не знаю, что именно от меня хотели услышать в ответе на этот вопрос...)\r\n",
        "\r\n",
        "\r\n"
      ]
    },
    {
      "cell_type": "markdown",
      "metadata": {
        "id": "CJqXVuasK-hW"
      },
      "source": [
        "### Бонус"
      ]
    },
    {
      "cell_type": "markdown",
      "metadata": {
        "id": "QVDWHCdrK-hX"
      },
      "source": [
        "__Задание 4. (Максимум 2 балла)__\n",
        "\n",
        "Как вы, должно быть, помните с курса МО-1, многие алгоритмы машинного обучения работают лучше, если признаки данных некоррелированы. Оказывается, что для RFF существует модификация, позволяющая получать ортогональные случайные признаки (Orthogonal Random Features, ORF). Об этом методе можно прочитать в [статье](https://proceedings.neurips.cc/paper/2016/file/53adaf494dc89ef7196d73636eb2451b-Paper.pdf). Реализуйте класс для вычисления ORF по аналогии с основным заданием. Проведите эксперименты, сравнивающие RFF и ORF, сделайте выводы."
      ]
    },
    {
      "cell_type": "markdown",
      "metadata": {
        "id": "X6QF8RE7VJEm"
      },
      "source": [
        "Надеюсь, я правильно все поняла (ай эм сори, ай донт спик инглиш вери гуд, бат ай спик инглиш фифти-фифти) и все, что нам нужно реализовать - это вычисление матрицы W по описанной в статье схеме."
      ]
    },
    {
      "cell_type": "markdown",
      "metadata": {
        "id": "bl6EB_-80JG3"
      },
      "source": [
        "<img src=\"https://sun9-36.userapi.com/impf/Bc2Sswyw1j-N62u8ygo7dLHhV6W58L2ft662nw/_52hftRmOJY.jpg?size=1243x357&quality=96&proxy=1&sign=026e2092d206bc01ae20cbe0343d0796&type=album\">"
      ]
    },
    {
      "cell_type": "code",
      "metadata": {
        "id": "HSxvGI9iK-hX"
      },
      "source": [
        "class ORFPipeline(BaseEstimator, TransformerMixin):\r\n",
        "    def __init__(self, n_features=1000, new_dim=50, use_PCA=True, classifier='logreg'):\r\n",
        "        self.n_features = n_features\r\n",
        "        self.use_PCA = use_PCA\r\n",
        "        self.new_dim = new_dim\r\n",
        "        self.classifier = classifier\r\n",
        "        self.PCA = PCA(n_components=self.new_dim)\r\n",
        "\r\n",
        "        if self.classifier == 'logreg':\r\n",
        "            self.model = LogisticRegression()\r\n",
        "        else:\r\n",
        "            self.model = SVC(kernel=self.classifier)\r\n",
        "\r\n",
        "    def est_sigma2(self, X):\r\n",
        "        batch_size = 1000000\r\n",
        "        i = np.random.choice(X.shape[0], batch_size)\r\n",
        "        j = np.random.choice(X.shape[0] - 1, batch_size)\r\n",
        "        j[j >= i] += 1\r\n",
        "        ij = np.stack([i, j], axis=1)\r\n",
        "        sigma2 = np.median(np.sum(np.square(X[ij][:, 0] - X[ij][:, 1]), axis=1))\r\n",
        "\r\n",
        "        return sigma2\r\n",
        "\r\n",
        "    def fit(self, X, y):\r\n",
        "        if self.use_PCA:\r\n",
        "            pca_X = self.PCA.fit_transform(X)\r\n",
        "        else:\r\n",
        "            pca_X = X\r\n",
        "            self.new_dim = X.shape[1]\r\n",
        "\r\n",
        "        sigma2 = self.est_sigma2(pca_X)\r\n",
        "\r\n",
        "        H = np.random.rand(self.n_features, self.new_dim)\r\n",
        "        u, s, vh = np.linalg.svd(H, full_matrices=False)\r\n",
        "        S = u @ vh\r\n",
        "        Q = np.diag(np.random.chisquare(self.new_dim, self.new_dim))\r\n",
        "\r\n",
        "        self.W = 1 / np.sqrt(sigma2) * np.dot(S, Q)\r\n",
        "        self.b = np.random.uniform(-np.pi, np.pi, self.n_features)\r\n",
        "\r\n",
        "        new_X = np.cos(pca_X @ self.W.T + self.b)\r\n",
        "        \r\n",
        "        self.model.fit(new_X, y)\r\n",
        "\r\n",
        "        return self\r\n",
        "\r\n",
        "    def predict_proba(self, X):\r\n",
        "        if self.use_PCA:\r\n",
        "            pca_X = self.PCA.transform(X)\r\n",
        "        else:\r\n",
        "            pca_X = X\r\n",
        "            self.new_dim = X.shape[1]\r\n",
        "\r\n",
        "        new_X = np.cos(pca_X @ self.W.T + self.b)\r\n",
        "        res = self.model.predict_proba(new_X)\r\n",
        "\r\n",
        "        return res \r\n",
        "        \r\n",
        "    def predict(self, X):\r\n",
        "        if self.use_PCA:\r\n",
        "            pca_X = self.PCA.transform(X)\r\n",
        "        else:\r\n",
        "            pca_X = X\r\n",
        "            self.new_dim = X.shape[1]\r\n",
        "\r\n",
        "        new_X = np.cos(pca_X @ self.W.T + self.b)\r\n",
        "        res = self.model.predict(new_X)\r\n",
        "\r\n",
        "        return res"
      ],
      "execution_count": 16,
      "outputs": []
    },
    {
      "cell_type": "code",
      "metadata": {
        "id": "CST1UB_mIONZ"
      },
      "source": [
        "idxs = random.sample(range(x_train.shape[0]), 10000)\r\n",
        "n_x_train = x_train[idxs]\r\n",
        "n_y_train = y_train[idxs]\r\n",
        "\r\n",
        "idxs_2 = random.sample(range(x_test.shape[0]), 2000)\r\n",
        "n_x_test = x_test[idxs_2]\r\n",
        "n_y_test = y_test[idxs_2]"
      ],
      "execution_count": 7,
      "outputs": []
    },
    {
      "cell_type": "code",
      "metadata": {
        "colab": {
          "base_uri": "https://localhost:8080/"
        },
        "id": "Q6Jx8coQxsB5",
        "outputId": "8ac5cdbc-c495-4bdc-9d8f-dee512fbf0c9"
      },
      "source": [
        "%%time\r\n",
        "\r\n",
        "pip = RFFPipeline(classifier='logreg')\r\n",
        "pip.fit(n_x_train, n_y_train)\r\n",
        "y_pred = pip.predict(n_x_test)\r\n",
        "\r\n",
        "print(\"Доля верных ответов RFF на тесте для logreg с PCA: \", accuracy_score(y_pred, n_y_test) * 100, \"%\", sep='')"
      ],
      "execution_count": 8,
      "outputs": [
        {
          "output_type": "stream",
          "text": [
            "Доля верных ответов RFF на тесте для logreg с PCA: 84.89999999999999%\n",
            "CPU times: user 20.8 s, sys: 13.4 s, total: 34.2 s\n",
            "Wall time: 18.2 s\n"
          ],
          "name": "stdout"
        }
      ]
    },
    {
      "cell_type": "code",
      "metadata": {
        "colab": {
          "base_uri": "https://localhost:8080/"
        },
        "id": "5_Rg9kGmGdSj",
        "outputId": "d249507a-a34e-4b27-acd4-dc75d23f4b39"
      },
      "source": [
        "%%time\r\n",
        "\r\n",
        "pip = ORFPipeline(classifier='logreg')\r\n",
        "pip.fit(n_x_train, n_y_train)\r\n",
        "y_pred = pip.predict(n_x_test)\r\n",
        "\r\n",
        "print(\"Доля верных ответов ORF на тесте для logreg с PCA: \", accuracy_score(y_pred, n_y_test) * 100, \"%\", sep='')"
      ],
      "execution_count": 19,
      "outputs": [
        {
          "output_type": "stream",
          "text": [
            "Доля верных ответов ORF на тесте для logreg с PCA: 85.7%\n",
            "CPU times: user 20.5 s, sys: 12.8 s, total: 33.3 s\n",
            "Wall time: 17.4 s\n"
          ],
          "name": "stdout"
        }
      ]
    },
    {
      "cell_type": "code",
      "metadata": {
        "colab": {
          "base_uri": "https://localhost:8080/"
        },
        "id": "Sv9EVV8eHCVb",
        "outputId": "c1b9c1bf-d42b-4372-8fa6-7fca2eefd8c9"
      },
      "source": [
        "%%time\r\n",
        "\r\n",
        "pip = RFFPipeline(classifier='linear')\r\n",
        "pip.fit(n_x_train, n_y_train)\r\n",
        "y_pred = pip.predict(n_x_test)\r\n",
        "\r\n",
        "print(\"Доля верных ответов RFF на тесте для linear SVM с PCA: \", accuracy_score(y_pred, n_y_test) * 100, \"%\", sep='')"
      ],
      "execution_count": 20,
      "outputs": [
        {
          "output_type": "stream",
          "text": [
            "Доля верных ответов RFF на тесте для linear SVM с PCA: 85.39999999999999%\n",
            "CPU times: user 45.9 s, sys: 1.63 s, total: 47.6 s\n",
            "Wall time: 45.7 s\n"
          ],
          "name": "stdout"
        }
      ]
    },
    {
      "cell_type": "code",
      "metadata": {
        "colab": {
          "base_uri": "https://localhost:8080/"
        },
        "id": "_Ex7YFcHHC6v",
        "outputId": "8a682f0b-de28-49f3-8991-23a1791cb8dd"
      },
      "source": [
        "%%time\r\n",
        "\r\n",
        "pip = ORFPipeline(classifier='linear')\r\n",
        "pip.fit(n_x_train, n_y_train)\r\n",
        "y_pred = pip.predict(n_x_test)\r\n",
        "\r\n",
        "print(\"Доля верных ответов ORF на тесте для linear SVM с PCA: \", accuracy_score(y_pred, n_y_test) * 100, \"%\", sep='')"
      ],
      "execution_count": 21,
      "outputs": [
        {
          "output_type": "stream",
          "text": [
            "Доля верных ответов ORF на тесте для linear SVM с PCA: 84.7%\n",
            "CPU times: user 47.1 s, sys: 1.67 s, total: 48.8 s\n",
            "Wall time: 47 s\n"
          ],
          "name": "stdout"
        }
      ]
    },
    {
      "cell_type": "code",
      "metadata": {
        "colab": {
          "base_uri": "https://localhost:8080/"
        },
        "id": "LSGmk9RnW-w3",
        "outputId": "064aaa0d-5e89-40c8-b2f1-28793edc9b37"
      },
      "source": [
        "%%time\r\n",
        "\r\n",
        "pip = RFFPipeline(classifier='poly')\r\n",
        "pip.fit(n_x_train, n_y_train)\r\n",
        "y_pred = pip.predict(n_x_test)\r\n",
        "\r\n",
        "print(\"Доля верных ответов RFF на тесте для poly SVM с PCA: \", accuracy_score(y_pred, n_y_test) * 100, \"%\", sep='')"
      ],
      "execution_count": 12,
      "outputs": [
        {
          "output_type": "stream",
          "text": [
            "Доля верных ответов RFF на тесте для poly SVM с PCA: 85.1%\n",
            "CPU times: user 57.8 s, sys: 1.75 s, total: 59.5 s\n",
            "Wall time: 57.7 s\n"
          ],
          "name": "stdout"
        }
      ]
    },
    {
      "cell_type": "code",
      "metadata": {
        "colab": {
          "base_uri": "https://localhost:8080/"
        },
        "id": "LY3cSaO5W_Db",
        "outputId": "b937dfd3-c73f-4aaa-8e14-ca903e1820a3"
      },
      "source": [
        "%%time\r\n",
        "\r\n",
        "pip = ORFPipeline(classifier='poly')\r\n",
        "pip.fit(n_x_train, n_y_train)\r\n",
        "y_pred = pip.predict(n_x_test)\r\n",
        "\r\n",
        "print(\"Доля верных ответов ORF на тесте для poly SVM с PCA: \", accuracy_score(y_pred, n_y_test) * 100, \"%\", sep='')"
      ],
      "execution_count": 13,
      "outputs": [
        {
          "output_type": "stream",
          "text": [
            "Доля верных ответов ORF на тесте для poly SVM с PCA: 85.9%\n",
            "CPU times: user 1min 11s, sys: 1.69 s, total: 1min 13s\n",
            "Wall time: 1min 11s\n"
          ],
          "name": "stdout"
        }
      ]
    },
    {
      "cell_type": "code",
      "metadata": {
        "colab": {
          "base_uri": "https://localhost:8080/"
        },
        "id": "29BY_INtXQVx",
        "outputId": "084b3499-d14e-429c-8523-aeb63faacbf8"
      },
      "source": [
        "%%time\r\n",
        "\r\n",
        "pip = RFFPipeline(classifier='rbf')\r\n",
        "pip.fit(n_x_train, n_y_train)\r\n",
        "y_pred = pip.predict(n_x_test)\r\n",
        "\r\n",
        "print(\"Доля верных ответов RFF на тесте для rbf SVM с PCA: \", accuracy_score(y_pred, n_y_test) * 100, \"%\", sep='')"
      ],
      "execution_count": 14,
      "outputs": [
        {
          "output_type": "stream",
          "text": [
            "Доля верных ответов RFF на тесте для rbf SVM с PCA: 84.3%\n",
            "CPU times: user 1min 2s, sys: 1.63 s, total: 1min 3s\n",
            "Wall time: 1min 1s\n"
          ],
          "name": "stdout"
        }
      ]
    },
    {
      "cell_type": "code",
      "metadata": {
        "colab": {
          "base_uri": "https://localhost:8080/"
        },
        "id": "vDffFp_FXQez",
        "outputId": "071bdd70-e31a-4ad8-ccbd-44085ebd2719"
      },
      "source": [
        "%%time\r\n",
        "\r\n",
        "pip = ORFPipeline(classifier='rbf')\r\n",
        "pip.fit(n_x_train, n_y_train)\r\n",
        "y_pred = pip.predict(n_x_test)\r\n",
        "\r\n",
        "print(\"Доля верных ответов ORF на тесте для rbf SVM с PCA: \", accuracy_score(y_pred, n_y_test) * 100, \"%\", sep='')"
      ],
      "execution_count": 15,
      "outputs": [
        {
          "output_type": "stream",
          "text": [
            "Доля верных ответов ORF на тесте для rbf SVM с PCA: 85.75%\n",
            "CPU times: user 1min 5s, sys: 1.64 s, total: 1min 6s\n",
            "Wall time: 1min 5s\n"
          ],
          "name": "stdout"
        }
      ]
    },
    {
      "cell_type": "markdown",
      "metadata": {
        "id": "eb3rMabzYkVf"
      },
      "source": [
        "(С use_PCA тестить не будем, потому что при нормализации у меня вылетает ОЗУ в коллабе при векторных вычислениях, а обратно цикл писать не хочется)"
      ]
    },
    {
      "cell_type": "markdown",
      "metadata": {
        "id": "XpB2dXgqZfMZ"
      },
      "source": [
        "Ну что ж, как мы видим, в трех из четырех случаев, ORF дал немного более высокое качество, чем RFF. По времени же оба алгоритма работали примерно одинаково. Такие вот дела."
      ]
    },
    {
      "cell_type": "markdown",
      "metadata": {
        "id": "4pc7-1jmK-hY"
      },
      "source": [
        "__Задание 5. (Максимум 2 балла)__\n",
        "\n",
        "Поэкспериментируйте с функциями для вычисления новых случайных признаков. Не обязательно использовать косинус от скалярного произведения — можно брать знак от него, хэш и т.д. Придумайте побольше вариантов для генерации признаков и проверьте, не получается ли с их помощью добиваться более высокого качества. Также можете попробовать другой классификатор поверх случайных признаков, сравните результаты."
      ]
    },
    {
      "cell_type": "code",
      "metadata": {
        "id": "dWj-O2vjK-hY"
      },
      "source": [
        "class Pipeline_sign(BaseEstimator, TransformerMixin):\r\n",
        "    def __init__(self, n_features=1000, new_dim=50, use_PCA=True, classifier='logreg'):\r\n",
        "        self.n_features = n_features\r\n",
        "        self.use_PCA = use_PCA\r\n",
        "        self.new_dim = new_dim\r\n",
        "        self.classifier = classifier\r\n",
        "        self.PCA = PCA(n_components=self.new_dim)\r\n",
        "\r\n",
        "        if self.classifier == 'logreg':\r\n",
        "            self.model = LogisticRegression()\r\n",
        "        else:\r\n",
        "            self.model = SVC(kernel=self.classifier)\r\n",
        "\r\n",
        "    def est_sigma2(self, X):\r\n",
        "        batch_size = 1000000\r\n",
        "        i = np.random.choice(X.shape[0], batch_size)\r\n",
        "        j = np.random.choice(X.shape[0] - 1, batch_size)\r\n",
        "        j[j >= i] += 1\r\n",
        "        ij = np.stack([i, j], axis=1)\r\n",
        "        sigma2 = np.median(np.sum(np.square(X[ij][:, 0] - X[ij][:, 1]), axis=1))\r\n",
        "\r\n",
        "        return sigma2\r\n",
        "\r\n",
        "    def fit(self, X, y):\r\n",
        "        if self.use_PCA:\r\n",
        "            pca_X = self.PCA.fit_transform(X)\r\n",
        "        else:\r\n",
        "            pca_X = X\r\n",
        "            self.new_dim = X.shape[1]\r\n",
        "\r\n",
        "        sigma2 = self.est_sigma2(pca_X)\r\n",
        "\r\n",
        "        self.W = np.random.normal(0, 1 / np.sqrt(sigma2), (self.new_dim, self.n_features))\r\n",
        "        self.b = np.random.uniform(-np.pi, np.pi, self.n_features)\r\n",
        "\r\n",
        "        new_X = np.sign(pca_X @ self.W + self.b)\r\n",
        "        \r\n",
        "        self.model.fit(new_X, y)\r\n",
        "\r\n",
        "        return self\r\n",
        "\r\n",
        "    def predict_proba(self, X):\r\n",
        "        if self.use_PCA:\r\n",
        "            pca_X = self.PCA.transform(X)\r\n",
        "        else:\r\n",
        "            pca_X = X\r\n",
        "            self.new_dim = X.shape[1]\r\n",
        "\r\n",
        "        new_X = np.sign(pca_X @ self.W + self.b)\r\n",
        "        res = self.model.predict_proba(new_X)\r\n",
        "\r\n",
        "        return res \r\n",
        "        \r\n",
        "    def predict(self, X):\r\n",
        "        if self.use_PCA:\r\n",
        "            pca_X = self.PCA.transform(X)\r\n",
        "        else:\r\n",
        "            pca_X = X\r\n",
        "            self.new_dim = X.shape[1]\r\n",
        "\r\n",
        "        new_X = np.sign(pca_X @ self.W + self.b)\r\n",
        "        res = self.model.predict(new_X)\r\n",
        "\r\n",
        "        return res"
      ],
      "execution_count": 6,
      "outputs": []
    },
    {
      "cell_type": "code",
      "metadata": {
        "id": "J4-rLif2xhJI"
      },
      "source": [
        "class Pipeline_sin(BaseEstimator, TransformerMixin):\r\n",
        "    def __init__(self, n_features=1000, new_dim=50, use_PCA=True, classifier='logreg'):\r\n",
        "        self.n_features = n_features\r\n",
        "        self.use_PCA = use_PCA\r\n",
        "        self.new_dim = new_dim\r\n",
        "        self.classifier = classifier\r\n",
        "        self.PCA = PCA(n_components=self.new_dim)\r\n",
        "\r\n",
        "        if self.classifier == 'logreg':\r\n",
        "            self.model = LogisticRegression()\r\n",
        "        else:\r\n",
        "            self.model = SVC(kernel=self.classifier)\r\n",
        "\r\n",
        "    def est_sigma2(self, X):\r\n",
        "        batch_size = 1000000\r\n",
        "        i = np.random.choice(X.shape[0], batch_size)\r\n",
        "        j = np.random.choice(X.shape[0] - 1, batch_size)\r\n",
        "        j[j >= i] += 1\r\n",
        "        ij = np.stack([i, j], axis=1)\r\n",
        "        sigma2 = np.median(np.sum(np.square(X[ij][:, 0] - X[ij][:, 1]), axis=1))\r\n",
        "\r\n",
        "        return sigma2\r\n",
        "\r\n",
        "    def fit(self, X, y):\r\n",
        "        if self.use_PCA:\r\n",
        "            pca_X = self.PCA.fit_transform(X)\r\n",
        "        else:\r\n",
        "            pca_X = X\r\n",
        "            self.new_dim = X.shape[1]\r\n",
        "\r\n",
        "        sigma2 = self.est_sigma2(pca_X)\r\n",
        "\r\n",
        "        self.W = np.random.normal(0, 1 / np.sqrt(sigma2), (self.new_dim, self.n_features))\r\n",
        "        self.b = np.random.uniform(-np.pi, np.pi, self.n_features)\r\n",
        "\r\n",
        "        new_X = np.sin(pca_X @ self.W + self.b)\r\n",
        "        \r\n",
        "        self.model.fit(new_X, y)\r\n",
        "\r\n",
        "        return self\r\n",
        "\r\n",
        "    def predict_proba(self, X):\r\n",
        "        if self.use_PCA:\r\n",
        "            pca_X = self.PCA.transform(X)\r\n",
        "        else:\r\n",
        "            pca_X = X\r\n",
        "            self.new_dim = X.shape[1]\r\n",
        "\r\n",
        "        new_X = np.sin(pca_X @ self.W + self.b)\r\n",
        "        res = self.model.predict_proba(new_X)\r\n",
        "\r\n",
        "        return res \r\n",
        "        \r\n",
        "    def predict(self, X):\r\n",
        "        if self.use_PCA:\r\n",
        "            pca_X = self.PCA.transform(X)\r\n",
        "        else:\r\n",
        "            pca_X = X\r\n",
        "            self.new_dim = X.shape[1]\r\n",
        "\r\n",
        "        new_X = np.sin(pca_X @ self.W + self.b)\r\n",
        "        res = self.model.predict(new_X)\r\n",
        "\r\n",
        "        return res"
      ],
      "execution_count": 50,
      "outputs": []
    },
    {
      "cell_type": "code",
      "metadata": {
        "id": "hjSFcLTy7oG1"
      },
      "source": [
        "class Pipeline_exp(BaseEstimator, TransformerMixin):\r\n",
        "    def __init__(self, n_features=1000, new_dim=50, use_PCA=True, classifier='logreg'):\r\n",
        "        self.n_features = n_features\r\n",
        "        self.use_PCA = use_PCA\r\n",
        "        self.new_dim = new_dim\r\n",
        "        self.classifier = classifier\r\n",
        "        self.PCA = PCA(n_components=self.new_dim)\r\n",
        "\r\n",
        "        if self.classifier == 'logreg':\r\n",
        "            self.model = LogisticRegression()\r\n",
        "        else:\r\n",
        "            self.model = SVC(kernel=self.classifier)\r\n",
        "\r\n",
        "    def est_sigma2(self, X):\r\n",
        "        batch_size = 1000000\r\n",
        "        i = np.random.choice(X.shape[0], batch_size)\r\n",
        "        j = np.random.choice(X.shape[0] - 1, batch_size)\r\n",
        "        j[j >= i] += 1\r\n",
        "        ij = np.stack([i, j], axis=1)\r\n",
        "        sigma2 = np.median(np.sum(np.square(X[ij][:, 0] - X[ij][:, 1]), axis=1))\r\n",
        "\r\n",
        "        return sigma2\r\n",
        "\r\n",
        "    def fit(self, X, y):\r\n",
        "        if self.use_PCA:\r\n",
        "            pca_X = self.PCA.fit_transform(X)\r\n",
        "        else:\r\n",
        "            pca_X = X\r\n",
        "            self.new_dim = X.shape[1]\r\n",
        "\r\n",
        "        sigma2 = self.est_sigma2(pca_X)\r\n",
        "\r\n",
        "        self.W = np.random.normal(0, 1 / np.sqrt(sigma2), (self.new_dim, self.n_features))\r\n",
        "        self.b = np.random.uniform(-np.pi, np.pi, self.n_features)\r\n",
        "\r\n",
        "        new_X = np.exp(pca_X @ self.W + self.b)\r\n",
        "        \r\n",
        "        self.model.fit(new_X, y)\r\n",
        "\r\n",
        "        return self\r\n",
        "\r\n",
        "    def predict_proba(self, X):\r\n",
        "        if self.use_PCA:\r\n",
        "            pca_X = self.PCA.transform(X)\r\n",
        "        else:\r\n",
        "            pca_X = X\r\n",
        "            self.new_dim = X.shape[1]\r\n",
        "\r\n",
        "        new_X = np.exp(pca_X @ self.W + self.b)\r\n",
        "        res = self.model.predict_proba(new_X)\r\n",
        "\r\n",
        "        return res \r\n",
        "        \r\n",
        "    def predict(self, X):\r\n",
        "        if self.use_PCA:\r\n",
        "            pca_X = self.PCA.transform(X)\r\n",
        "        else:\r\n",
        "            pca_X = X\r\n",
        "            self.new_dim = X.shape[1]\r\n",
        "\r\n",
        "        new_X = np.exp(pca_X @ self.W + self.b)\r\n",
        "        res = self.model.predict(new_X)\r\n",
        "\r\n",
        "        return res"
      ],
      "execution_count": 57,
      "outputs": []
    },
    {
      "cell_type": "code",
      "metadata": {
        "id": "t_T_LrAz8-WT"
      },
      "source": [
        "class Pipeline_log(BaseEstimator, TransformerMixin):\r\n",
        "    def __init__(self, n_features=1000, new_dim=50, use_PCA=True, classifier='logreg'):\r\n",
        "        self.n_features = n_features\r\n",
        "        self.use_PCA = use_PCA\r\n",
        "        self.new_dim = new_dim\r\n",
        "        self.classifier = classifier\r\n",
        "        self.PCA = PCA(n_components=self.new_dim)\r\n",
        "\r\n",
        "        if self.classifier == 'logreg':\r\n",
        "            self.model = LogisticRegression()\r\n",
        "        else:\r\n",
        "            self.model = SVC(kernel=self.classifier)\r\n",
        "\r\n",
        "    def est_sigma2(self, X):\r\n",
        "        batch_size = 1000000\r\n",
        "        i = np.random.choice(X.shape[0], batch_size)\r\n",
        "        j = np.random.choice(X.shape[0] - 1, batch_size)\r\n",
        "        j[j >= i] += 1\r\n",
        "        ij = np.stack([i, j], axis=1)\r\n",
        "        sigma2 = np.median(np.sum(np.square(X[ij][:, 0] - X[ij][:, 1]), axis=1))\r\n",
        "\r\n",
        "        return sigma2\r\n",
        "\r\n",
        "    def fit(self, X, y):\r\n",
        "        if self.use_PCA:\r\n",
        "            pca_X = self.PCA.fit_transform(X)\r\n",
        "        else:\r\n",
        "            pca_X = X\r\n",
        "            self.new_dim = X.shape[1]\r\n",
        "\r\n",
        "        sigma2 = self.est_sigma2(pca_X)\r\n",
        "\r\n",
        "        self.W = np.random.normal(0, 1 / np.sqrt(sigma2), (self.new_dim, self.n_features))\r\n",
        "        self.b = np.random.uniform(-np.pi, np.pi, self.n_features)\r\n",
        "        new_X = np.log1p((pca_X @ self.W + self.b) + np.max(pca_X @ self.W + self.b))\r\n",
        "        \r\n",
        "        self.model.fit(new_X, y)\r\n",
        "\r\n",
        "        return self\r\n",
        "\r\n",
        "    def predict_proba(self, X):\r\n",
        "        if self.use_PCA:\r\n",
        "            pca_X = self.PCA.transform(X)\r\n",
        "        else:\r\n",
        "            pca_X = X\r\n",
        "            self.new_dim = X.shape[1]\r\n",
        "\r\n",
        "        new_X = np.log1p((pca_X @ self.W + self.b) + np.max(pca_X @ self.W + self.b))\r\n",
        "        res = self.model.predict_proba(new_X)\r\n",
        "\r\n",
        "        return res \r\n",
        "        \r\n",
        "    def predict(self, X):\r\n",
        "        if self.use_PCA:\r\n",
        "            pca_X = self.PCA.transform(X)\r\n",
        "        else:\r\n",
        "            pca_X = X\r\n",
        "            self.new_dim = X.shape[1]\r\n",
        "\r\n",
        "        new_X = np.log1p((pca_X @ self.W + self.b) + np.max(pca_X @ self.W + self.b))\r\n",
        "        res = self.model.predict(new_X)\r\n",
        "\r\n",
        "        return res"
      ],
      "execution_count": 106,
      "outputs": []
    },
    {
      "cell_type": "code",
      "metadata": {
        "id": "KAaMPPwWxhNB"
      },
      "source": [
        "idxs = random.sample(range(x_train.shape[0]), 10000)\r\n",
        "n_x_train = x_train[idxs]\r\n",
        "n_y_train = y_train[idxs]\r\n",
        "\r\n",
        "idxs_2 = random.sample(range(x_test.shape[0]), 2000)\r\n",
        "n_x_test = x_test[idxs_2]\r\n",
        "n_y_test = y_test[idxs_2]"
      ],
      "execution_count": 34,
      "outputs": []
    },
    {
      "cell_type": "code",
      "metadata": {
        "colab": {
          "base_uri": "https://localhost:8080/"
        },
        "id": "zvMME0TixhRl",
        "outputId": "4dfa2212-cb14-48ef-bf82-ff94d2efa9e9"
      },
      "source": [
        "%%time\r\n",
        "\r\n",
        "pip = RFFPipeline(classifier='logreg')\r\n",
        "pip.fit(n_x_train, n_y_train)\r\n",
        "y_pred = pip.predict(n_x_test)\r\n",
        "\r\n",
        "print(\"Доля верных ответов RFF на тесте для logreg с PCA: \", accuracy_score(y_pred, n_y_test) * 100, \"%\", sep='')"
      ],
      "execution_count": 94,
      "outputs": [
        {
          "output_type": "stream",
          "text": [
            "Доля верных ответов RFF на тесте для logreg с PCA: 83.7%\n",
            "CPU times: user 23 s, sys: 14.1 s, total: 37.1 s\n",
            "Wall time: 19.9 s\n"
          ],
          "name": "stdout"
        }
      ]
    },
    {
      "cell_type": "code",
      "metadata": {
        "colab": {
          "base_uri": "https://localhost:8080/"
        },
        "id": "Kw6kXxTGflwR",
        "outputId": "11e2edd5-a2b0-4064-952e-7e12b720e719"
      },
      "source": [
        "%%time\r\n",
        "\r\n",
        "pip = Pipeline_sign(classifier='logreg')\r\n",
        "pip.fit(n_x_train, n_y_train)\r\n",
        "y_pred = pip.predict(n_x_test)\r\n",
        "\r\n",
        "print(\"Доля верных ответов RFF с sign на тесте для logreg с PCA: \", accuracy_score(y_pred, n_y_test) * 100, \"%\", sep='')"
      ],
      "execution_count": 95,
      "outputs": [
        {
          "output_type": "stream",
          "text": [
            "Доля верных ответов RFF с sign на тесте для logreg с PCA: 80.10000000000001%\n",
            "CPU times: user 23 s, sys: 13.9 s, total: 36.9 s\n",
            "Wall time: 19.4 s\n"
          ],
          "name": "stdout"
        }
      ]
    },
    {
      "cell_type": "code",
      "metadata": {
        "colab": {
          "base_uri": "https://localhost:8080/"
        },
        "id": "USZ1etYYfmBh",
        "outputId": "9906681c-451f-4ace-c6de-7d8967abc7b1"
      },
      "source": [
        "%%time\r\n",
        "\r\n",
        "pip = Pipeline_sin(classifier='logreg')\r\n",
        "pip.fit(n_x_train, n_y_train)\r\n",
        "y_pred = pip.predict(n_x_test)\r\n",
        "\r\n",
        "print(\"Доля верных ответов RFF с sin на тесте для logreg с PCA: \", accuracy_score(y_pred, n_y_test) * 100, \"%\", sep='')"
      ],
      "execution_count": 101,
      "outputs": [
        {
          "output_type": "stream",
          "text": [
            "Доля верных ответов RFF с sin на тесте для logreg с PCA: 83.7%\n",
            "CPU times: user 24 s, sys: 13.5 s, total: 37.5 s\n",
            "Wall time: 19.8 s\n"
          ],
          "name": "stdout"
        }
      ]
    },
    {
      "cell_type": "code",
      "metadata": {
        "colab": {
          "base_uri": "https://localhost:8080/"
        },
        "id": "j4u7NLdEfmOs",
        "outputId": "eb3389cc-f2e2-44d1-cd40-17bd39acec2a"
      },
      "source": [
        "%%time\r\n",
        "\r\n",
        "pip = Pipeline_exp(classifier='logreg')\r\n",
        "pip.fit(n_x_train, n_y_train)\r\n",
        "y_pred = pip.predict(n_x_test)\r\n",
        "\r\n",
        "print(\"Доля верных ответов RFF с exp на тесте для logreg с PCA: \", accuracy_score(y_pred, n_y_test) * 100, \"%\", sep='')"
      ],
      "execution_count": 97,
      "outputs": [
        {
          "output_type": "stream",
          "text": [
            "Доля верных ответов RFF с exp на тесте для logreg с PCA: 83.0%\n",
            "CPU times: user 23.2 s, sys: 13.6 s, total: 36.7 s\n",
            "Wall time: 19.3 s\n"
          ],
          "name": "stdout"
        }
      ]
    },
    {
      "cell_type": "code",
      "metadata": {
        "colab": {
          "base_uri": "https://localhost:8080/"
        },
        "id": "-GQ3eQHcfmbs",
        "outputId": "fd82c57b-30ec-4c2c-d396-672b3392b9a3"
      },
      "source": [
        "%%time\r\n",
        "\r\n",
        "pip = Pipeline_log(classifier='logreg')\r\n",
        "pip.fit(n_x_train, n_y_train)\r\n",
        "y_pred = pip.predict(n_x_test)\r\n",
        "\r\n",
        "print(\"Доля верных ответов RFF с линейным свдигом и log на тесте для logreg с PCA: \", accuracy_score(y_pred, n_y_test) * 100, \"%\", sep='')"
      ],
      "execution_count": 98,
      "outputs": [
        {
          "output_type": "stream",
          "text": [
            "Доля верных ответов RFF с линейным свдигом и log на тесте для logreg с PCA: 77.75%\n",
            "CPU times: user 23.9 s, sys: 13.8 s, total: 37.6 s\n",
            "Wall time: 19.7 s\n"
          ],
          "name": "stdout"
        }
      ]
    },
    {
      "cell_type": "markdown",
      "metadata": {
        "id": "NyKrDPTgf2Zs"
      },
      "source": [
        "Как можем увидеть, по времени работы разницы практически нет, все работает +- одинаково (что в целом логично)."
      ]
    },
    {
      "cell_type": "code",
      "metadata": {
        "colab": {
          "base_uri": "https://localhost:8080/"
        },
        "id": "2Dd3ojS288Ru",
        "outputId": "ccd54bff-35ef-4b35-a358-b7028e599310"
      },
      "source": [
        "%%time\r\n",
        "\r\n",
        "pip = RFFPipeline(classifier='linear')\r\n",
        "pip.fit(n_x_train, n_y_train)\r\n",
        "y_pred = pip.predict(n_x_test)\r\n",
        "\r\n",
        "print(\"Доля верных ответов RFF на тесте для SVM с PCA: \", accuracy_score(y_pred, n_y_test) * 100, \"%\", sep='')"
      ],
      "execution_count": 109,
      "outputs": [
        {
          "output_type": "stream",
          "text": [
            "Доля верных ответов RFF на тесте для SVM с PCA: 83.55%\n",
            "CPU times: user 48 s, sys: 2.8 s, total: 50.8 s\n",
            "Wall time: 49 s\n"
          ],
          "name": "stdout"
        }
      ]
    },
    {
      "cell_type": "code",
      "metadata": {
        "colab": {
          "base_uri": "https://localhost:8080/"
        },
        "id": "MV_ZGn00g4Rb",
        "outputId": "aa678570-4a0d-4275-f7cb-a0e848850f74"
      },
      "source": [
        "%%time\r\n",
        "\r\n",
        "pip = Pipeline_sign(classifier='linear')\r\n",
        "pip.fit(n_x_train, n_y_train)\r\n",
        "y_pred = pip.predict(n_x_test)\r\n",
        "\r\n",
        "print(\"Доля верных ответов RFF с sign на тесте для SVM с PCA: \", accuracy_score(y_pred, n_y_test) * 100, \"%\", sep='')"
      ],
      "execution_count": 102,
      "outputs": [
        {
          "output_type": "stream",
          "text": [
            "Доля верных ответов RFF с sign на тесте для SVM с PCA: 77.14999999999999%\n",
            "CPU times: user 1min 5s, sys: 1.87 s, total: 1min 7s\n",
            "Wall time: 1min 5s\n"
          ],
          "name": "stdout"
        }
      ]
    },
    {
      "cell_type": "code",
      "metadata": {
        "colab": {
          "base_uri": "https://localhost:8080/"
        },
        "id": "M6CEiS6Mg4bp",
        "outputId": "2561c0ce-3a43-4672-b8c2-051b62177734"
      },
      "source": [
        "%%time\r\n",
        "\r\n",
        "pip = Pipeline_sin(classifier='linear')\r\n",
        "pip.fit(n_x_train, n_y_train)\r\n",
        "y_pred = pip.predict(n_x_test)\r\n",
        "\r\n",
        "print(\"Доля верных ответов RFF с sin на тесте для SVM с PCA: \", accuracy_score(y_pred, n_y_test) * 100, \"%\", sep='')"
      ],
      "execution_count": 103,
      "outputs": [
        {
          "output_type": "stream",
          "text": [
            "Доля верных ответов RFF с sin на тесте для SVM с PCA: 83.75%\n",
            "CPU times: user 49.9 s, sys: 1.91 s, total: 51.8 s\n",
            "Wall time: 49.8 s\n"
          ],
          "name": "stdout"
        }
      ]
    },
    {
      "cell_type": "code",
      "metadata": {
        "colab": {
          "base_uri": "https://localhost:8080/"
        },
        "id": "S0uIX0zFg4r0",
        "outputId": "a8f946e3-0618-4b45-ff39-473a867bfd1e"
      },
      "source": [
        "%%time\r\n",
        "\r\n",
        "pip = Pipeline_exp(classifier='linear')\r\n",
        "pip.fit(n_x_train, n_y_train)\r\n",
        "y_pred = pip.predict(n_x_test)\r\n",
        "\r\n",
        "print(\"Доля верных ответов RFF с exp на тесте для SVM с PCA: \", accuracy_score(y_pred, n_y_test) * 100, \"%\", sep='')"
      ],
      "execution_count": 104,
      "outputs": [
        {
          "output_type": "stream",
          "text": [
            "Доля верных ответов RFF с exp на тесте для SVM с PCA: 80.95%\n",
            "CPU times: user 4min 4s, sys: 2.03 s, total: 4min 6s\n",
            "Wall time: 4min 5s\n"
          ],
          "name": "stdout"
        }
      ]
    },
    {
      "cell_type": "code",
      "metadata": {
        "colab": {
          "base_uri": "https://localhost:8080/"
        },
        "id": "EHFlq4B1g42S",
        "outputId": "6d8ec9de-e44b-49bd-97ea-0f8ff6a7957f"
      },
      "source": [
        "%%time\r\n",
        "\r\n",
        "pip = Pipeline_log(classifier='linear')\r\n",
        "pip.fit(n_x_train, n_y_train)\r\n",
        "y_pred = pip.predict(n_x_test)\r\n",
        "\r\n",
        "print(\"Доля верных ответов RFF с линейным свдигом и log на тесте для SVM с PCA: \", accuracy_score(y_pred, n_y_test) * 100, \"%\", sep='')"
      ],
      "execution_count": 107,
      "outputs": [
        {
          "output_type": "stream",
          "text": [
            "Доля верных ответов RFF с линейным свдигом и log на тесте для SVM с PCA: 74.75%\n",
            "CPU times: user 51.5 s, sys: 2 s, total: 53.5 s\n",
            "Wall time: 51.4 s\n"
          ],
          "name": "stdout"
        }
      ]
    },
    {
      "cell_type": "markdown",
      "metadata": {
        "id": "OU1XEzVNjgTj"
      },
      "source": [
        "Тут уже можем видеть, что метод с экспонентой работал куда дольше, чем остальные. "
      ]
    },
    {
      "cell_type": "markdown",
      "metadata": {
        "id": "iV8U7gEc_KEX"
      },
      "source": [
        "В целом, говоря о качестве, можем сказать, что явный аутсайдер для логистической регрессии и SVM - линейный сдвиг с логарифмом, а остальные функции дают примерно одинаковое качество на тесте (вообще, не знаю, что это я за странную функцию решила использовать, но опустим это...).  В итоге ничего лучше косинуса не справилось, ну, это наверное я какие-то слишком рандомные и не очень осмысленные функции взяла. \r\n",
        "\r\n",
        "Ну вернее у нас вышло так, что с SVM лучше справился синус, но тут тоже есть некоторый момент рандома в генерации новых признаков, так что это не показатель, не слишком большая разница. "
      ]
    },
    {
      "cell_type": "markdown",
      "metadata": {
        "id": "oags7t0zZqjo"
      },
      "source": [
        "Попробуем теперь сделать что-нибудь с другим классификатором. Рассмотрим Ridge классификатор."
      ]
    },
    {
      "cell_type": "code",
      "metadata": {
        "id": "Ol7le29188Zn"
      },
      "source": [
        "class Pipeline_Ridge(BaseEstimator, TransformerMixin):\r\n",
        "    def __init__(self, n_features=1000, new_dim=50, use_PCA=True):\r\n",
        "        self.n_features = n_features\r\n",
        "        self.use_PCA = use_PCA\r\n",
        "        self.new_dim = new_dim\r\n",
        "        self.PCA = PCA(n_components=self.new_dim)\r\n",
        "        self.model = RidgeClassifierCV()\r\n",
        "        \r\n",
        "\r\n",
        "    def est_sigma2(self, X):\r\n",
        "        batch_size = 1000000\r\n",
        "        i = np.random.choice(X.shape[0], batch_size)\r\n",
        "        j = np.random.choice(X.shape[0] - 1, batch_size)\r\n",
        "        j[j >= i] += 1\r\n",
        "        ij = np.stack([i, j], axis=1)\r\n",
        "        sigma2 = np.median(np.sum(np.square(X[ij][:, 0] - X[ij][:, 1]), axis=1))\r\n",
        "\r\n",
        "        return sigma2\r\n",
        "\r\n",
        "    def fit(self, X, y):\r\n",
        "        if self.use_PCA:\r\n",
        "            pca_X = self.PCA.fit_transform(X)\r\n",
        "        else:\r\n",
        "            pca_X = X\r\n",
        "            self.new_dim = X.shape[1]\r\n",
        "\r\n",
        "        sigma2 = self.est_sigma2(pca_X)\r\n",
        "\r\n",
        "        self.W = np.random.normal(0, 1 / np.sqrt(sigma2), (self.new_dim, self.n_features))\r\n",
        "        self.b = np.random.uniform(-np.pi, np.pi, self.n_features)\r\n",
        "\r\n",
        "        new_X = np.cos(pca_X @ self.W + self.b)\r\n",
        "        \r\n",
        "        self.model.fit(new_X, y)\r\n",
        "\r\n",
        "        return self\r\n",
        "\r\n",
        "    def predict_proba(self, X):\r\n",
        "        if self.use_PCA:\r\n",
        "            pca_X = self.PCA.transform(X)\r\n",
        "        else:\r\n",
        "            pca_X = X\r\n",
        "            self.new_dim = X.shape[1]\r\n",
        "\r\n",
        "        new_X = np.cos(pca_X @ self.W + self.b)\r\n",
        "        res = self.model.predict_proba(new_X)\r\n",
        "\r\n",
        "        return res \r\n",
        "        \r\n",
        "    def predict(self, X):\r\n",
        "        if self.use_PCA:\r\n",
        "            pca_X = self.PCA.transform(X)\r\n",
        "        else:\r\n",
        "            pca_X = X\r\n",
        "            self.new_dim = X.shape[1]\r\n",
        "\r\n",
        "        new_X = np.cos(pca_X @ self.W + self.b)\r\n",
        "        res = self.model.predict(new_X)\r\n",
        "\r\n",
        "        return res"
      ],
      "execution_count": 78,
      "outputs": []
    },
    {
      "cell_type": "code",
      "metadata": {
        "colab": {
          "base_uri": "https://localhost:8080/"
        },
        "id": "-cv7mrZXZxkJ",
        "outputId": "375a4ec6-d357-4bec-bff4-a7d5f5220af4"
      },
      "source": [
        "%%time\r\n",
        "\r\n",
        "pip = Pipeline_Ridge()\r\n",
        "pip.fit(n_x_train, n_y_train)\r\n",
        "y_pred = pip.predict(n_x_test)\r\n",
        "\r\n",
        "print(\"Доля верных ответов RFF с Ridge classifier на тесте с PCA: \", accuracy_score(y_pred, n_y_test) * 100, \"%\", sep='')"
      ],
      "execution_count": 86,
      "outputs": [
        {
          "output_type": "stream",
          "text": [
            "Доля верных ответов RFF с Ridge classifier на тесте с PCA: 84.65%\n",
            "CPU times: user 11.4 s, sys: 2.59 s, total: 14 s\n",
            "Wall time: 8.05 s\n"
          ],
          "name": "stdout"
        }
      ]
    },
    {
      "cell_type": "markdown",
      "metadata": {
        "id": "cfmxyas_b5YE"
      },
      "source": [
        "Ridge классификатор даже без подбора параметров оказался лучше всех. Мое уважение.\r\n",
        "\r\n",
        "Попробую еще увеличить количество новых признаков. "
      ]
    },
    {
      "cell_type": "code",
      "metadata": {
        "colab": {
          "base_uri": "https://localhost:8080/"
        },
        "id": "5IzcFzthd4Ay",
        "outputId": "55dd4ee5-00a7-44d4-a72e-fb682e047aff"
      },
      "source": [
        "%%time\r\n",
        "\r\n",
        "pip = Pipeline_Ridge(n_features=3000)\r\n",
        "pip.fit(n_x_train, n_y_train)\r\n",
        "y_pred = pip.predict(n_x_test)\r\n",
        "\r\n",
        "print(\"Доля верных ответов RFF с Ridge classifier на тесте с PCA: \", accuracy_score(y_pred, n_y_test) * 100, \"%\", sep='')"
      ],
      "execution_count": 93,
      "outputs": [
        {
          "output_type": "stream",
          "text": [
            "Доля верных ответов RFF с Ridge classifier на тесте с PCA: 85.2%\n",
            "CPU times: user 1min 34s, sys: 7.42 s, total: 1min 42s\n",
            "Wall time: 1min 6s\n"
          ],
          "name": "stdout"
        }
      ]
    },
    {
      "cell_type": "markdown",
      "metadata": {
        "id": "VQq2F0KTfaNl"
      },
      "source": [
        "Вау, неужели вышло больше 85! На этой хорошей ноте мы и закончим выполнение этого дз)"
      ]
    },
    {
      "cell_type": "markdown",
      "metadata": {
        "id": "leDM1lK--YJF"
      },
      "source": [
        "Я не уверена, что очень хорошо сделала бонусы, но! У меня есть кое-что получше...\r\n",
        "\r\n",
        "Грустных мемов больше не будет, они остались на мо-1\r\n",
        "\r\n",
        "Теперь только тик-токи с котиками и собачками!!!\r\n",
        "\r\n",
        "https://vm.tiktok.com/ZSJeu5dDt/\r\n",
        "\r\n",
        "https://vm.tiktok.com/ZSJeuUfgo/\r\n",
        "\r\n",
        "А, у меня еще есть ежик в шапочке панды, точно\r\n",
        "\r\n",
        "https://vm.tiktok.com/ZSJeujPPa/\r\n"
      ]
    }
  ]
}